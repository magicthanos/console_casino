{
 "cells": [
  {
   "cell_type": "code",
   "execution_count": 38,
   "metadata": {},
   "outputs": [
    {
     "name": "stdout",
     "output_type": "stream",
     "text": [
      "a Clash of Clans\n"
     ]
    }
   ],
   "source": [
    "s = 'a clash of clans'\n",
    "forbidden = ['of', 'the', 'and', 'a', 'an']\n",
    "l = str(s.title())\n",
    "for i in forbidden:\n",
    "  if i.title() is not l.split()[0]:\n",
    "    l = l.replace(i.title(), ''+i.lower())\n",
    "print(l)"
   ]
  }
 ],
 "metadata": {
  "interpreter": {
   "hash": "fbd788c48cce3125c9d0845e3b6b8d2ba61b68998cfd72feb83ac976090bc03d"
  },
  "kernelspec": {
   "display_name": "Python 3.10.4 64-bit",
   "language": "python",
   "name": "python3"
  },
  "language_info": {
   "codemirror_mode": {
    "name": "ipython",
    "version": 3
   },
   "file_extension": ".py",
   "mimetype": "text/x-python",
   "name": "python",
   "nbconvert_exporter": "python",
   "pygments_lexer": "ipython3",
   "version": "3.10.4"
  },
  "orig_nbformat": 4
 },
 "nbformat": 4,
 "nbformat_minor": 2
}
